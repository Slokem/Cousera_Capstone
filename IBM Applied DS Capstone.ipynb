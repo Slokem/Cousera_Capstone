{
 "cells": [
  {
   "cell_type": "markdown",
   "metadata": {},
   "source": [
    "<h1 align=center><font size = 7>IBM Applied Data Science Capstone</font></h1>\n",
    "<h1 align=center><font size = 6>The battle of the neighborhoods</font></h1>\n",
    "\n",
    "---\n"
   ]
  },
  {
   "cell_type": "markdown",
   "metadata": {},
   "source": [
    "<div class=\"alert alert-block alert-info\" style=\"margin-top: 20px\">\n",
    "\n",
    "## Table of content\n",
    "\n",
    "[Introduction](#id-section1)  \n",
    "\n",
    "[Part 1](#id-section001) \n",
    "1. [Importing *pandas* and *numpy*](#id-section001)\n",
    "2. [Hello Capstone Project course](#id-section002)"
   ]
  },
  {
   "cell_type": "markdown",
   "metadata": {},
   "source": [
    "<div id='id-section1'/>\n",
    "\n",
    "---\n",
    "# **Introduction**"
   ]
  },
  {
   "cell_type": "markdown",
   "metadata": {},
   "source": [
    "The aim of this notebook is to make a final report for the capstone project of IBM Data Science Professional Certificate.\n",
    "\n",
    "In this project we will tackle the **following problem** :  \n",
    "> You are living in Toronto city, in a neighborhood you like for several reasons (to define, it could be thanks to good restaurants, proximity to schools, grocery stores proximity, and so on). However you just had this increible job position offer to you in a great company and since the headquarter are to far from you current place you will have to move in a new neighborhood closer to your work place. Now you need to find a neighborhood that will be closer but similar or that you will like based on criteria to define.\n",
    "\n",
    "In this notebook we will use **Foursquare** API location data for the city of Toronto, Canada. We will segment it into different neighborhoods using the geographical coordinates of the center of each neighborhood, and then using a combination of **location data** and **machine learning** to group the neigborhood in **clusters**."
   ]
  },
  {
   "cell_type": "markdown",
   "metadata": {},
   "source": [
    "<div id='id-section001'/>\n",
    "\n",
    "---\n",
    "# **Part 1**"
   ]
  },
  {
   "cell_type": "markdown",
   "metadata": {},
   "source": [
    "<div id='id-section001'/>\n",
    "\n",
    "### 1. Importing *pandas* and *numpy*"
   ]
  },
  {
   "cell_type": "code",
   "execution_count": 1,
   "metadata": {},
   "outputs": [
    {
     "name": "stdout",
     "output_type": "stream",
     "text": [
      "Libraries are correclty imported\n"
     ]
    }
   ],
   "source": [
    "import pandas as pd\n",
    "import numpy as np\n",
    "print('Libraries are correclty imported')"
   ]
  },
  {
   "cell_type": "markdown",
   "metadata": {},
   "source": [
    "<div id='id-section002'/>\n",
    "\n",
    "### 2. Hello Capstone Project course"
   ]
  },
  {
   "cell_type": "markdown",
   "metadata": {},
   "source": [
    "As a first assignment for notebook recognition by IBM the following sentence has to be printed out : Hello Capstone Project Course!"
   ]
  },
  {
   "cell_type": "code",
   "execution_count": 2,
   "metadata": {},
   "outputs": [
    {
     "name": "stdout",
     "output_type": "stream",
     "text": [
      "Hello Capstone Project Course!\n"
     ]
    }
   ],
   "source": [
    "print('Hello Capstone Project Course!')"
   ]
  }
 ],
 "metadata": {
  "kernelspec": {
   "display_name": "Python 3",
   "language": "python",
   "name": "python3"
  },
  "language_info": {
   "codemirror_mode": {
    "name": "ipython",
    "version": 3
   },
   "file_extension": ".py",
   "mimetype": "text/x-python",
   "name": "python",
   "nbconvert_exporter": "python",
   "pygments_lexer": "ipython3",
   "version": "3.8.1"
  }
 },
 "nbformat": 4,
 "nbformat_minor": 4
}
